{
 "cells": [
  {
   "cell_type": "code",
   "execution_count": 1,
   "id": "bb93f771",
   "metadata": {},
   "outputs": [
    {
     "name": "stderr",
     "output_type": "stream",
     "text": [
      "/Users/mluca/anaconda3/lib/python3.11/site-packages/pandas/core/arrays/masked.py:60: UserWarning: Pandas requires version '1.3.6' or newer of 'bottleneck' (version '1.3.5' currently installed).\n",
      "  from pandas.core import (\n"
     ]
    }
   ],
   "source": [
    "from pyspainmobility import Mobility, Zones\n",
    "\n",
    "import folium\n",
    "\n",
    "import pandas as pd\n",
    "import seaborn as sns\n",
    "\n",
    "from selenium import webdriver\n",
    "from selenium.webdriver.chrome.options import Options\n",
    "\n",
    "import time\n",
    "import os\n",
    "\n",
    "from shapely import LineString\n",
    "\n",
    "import matplotlib.pyplot as plt\n",
    "import matplotlib.cm as cm\n",
    "import matplotlib.colors as mcolors"
   ]
  },
  {
   "cell_type": "markdown",
   "id": "0b2148c0",
   "metadata": {},
   "source": [
    "# Figure 2"
   ]
  },
  {
   "cell_type": "code",
   "execution_count": null,
   "id": "acc407e8",
   "metadata": {},
   "outputs": [],
   "source": [
    "# download the shape files for districts and get the geodataframe \n",
    "aggregation = 'municipalities'\n",
    "zones = Zones ( zones = aggregation, version=2)\n",
    "zones = zones.get_zone_geodataframe()\n",
    "# convert the CRS (optional)\n",
    "zones = zones.to_crs('4326')\n",
    "# Center of Madrid (approximate)\n",
    "madrid_coords = [40.4168, -3.7038]\n",
    "\n",
    "# Create the Folium map\n",
    "m = folium.Map(location=madrid_coords, zoom_start=10, tiles='Cartodb Positron')\n",
    "\n",
    "folium.map.CustomPane('labels').add_to(m)\n",
    "\n",
    "def style_function(feature):\n",
    "    return {\n",
    "        'fillOpacity': 0,\n",
    "        'color': 'black',\n",
    "        'weight': 1,\n",
    "    }\n",
    "\n",
    "folium.GeoJson(\n",
    "    zones,  \n",
    "    style_function=style_function\n",
    ").add_to(m)\n",
    "\n",
    "# save it to an html page\n",
    "m.save(f'output_map_{aggregation}.html')\n",
    "\n",
    "# use selenium to take a screenshot of the html page\n",
    "options = Options()\n",
    "options.add_argument(\"--headless\")\n",
    "options.add_argument(\"--window-size=1000,1000\") \n",
    "\n",
    "driver = webdriver.Chrome(options=options)\n",
    "\n",
    "driver.get('file://' + os.path.abspath(f'output_map_{aggregation}.html'))\n",
    "time.sleep(2)\n",
    "\n",
    "driver.save_screenshot(f'map_highres_{aggregation}.png')\n",
    "driver.quit()"
   ]
  },
  {
   "cell_type": "markdown",
   "id": "41c749cf",
   "metadata": {},
   "source": [
    "# Figure 3"
   ]
  },
  {
   "cell_type": "code",
   "execution_count": null,
   "id": "11aa75fc",
   "metadata": {},
   "outputs": [],
   "source": [
    "# getting 1 week of mobility data. In this case, we download the data from March 10 to March 16 \n",
    "mobility_data = Mobility(version=2, zones='gaus', start_date='2022-03-10', end_date='2022-03-16')\n",
    "# and we extract the OD matrices \n",
    "mobility_data.get_od_data(social_agg=True)"
   ]
  },
  {
   "cell_type": "code",
   "execution_count": null,
   "id": "623b320d",
   "metadata": {},
   "outputs": [],
   "source": [
    "df = pd.read_parquet('Viajes_GAU_2022-03-10_2022-03-16_v2.parquet')\n",
    "\n",
    "# filter out trips starting from Madrid's GAU \n",
    "df = df[df['id_origin']=='GAU Madrid']\n",
    "\n",
    "# split weekends and weekdays and average the flows without considering socio-dem\n",
    "wd = df[df['date'].isin(['2022-03-10','2022-03-11','2022-03-12','2022-03-13','2022-03-14'])]\n",
    "we = df[df['date'].isin(['2022-03-15','2022-03-16'])]"
   ]
  },
  {
   "cell_type": "code",
   "execution_count": null,
   "id": "b3ba66fa",
   "metadata": {},
   "outputs": [],
   "source": [
    "wd = wd.groupby(['date','id_origin','id_destination'])['n_trips'].sum().reset_index()\n",
    "we = we.groupby(['date','id_origin','id_destination'])['n_trips'].sum().reset_index()"
   ]
  },
  {
   "cell_type": "code",
   "execution_count": null,
   "id": "fa31c8ff",
   "metadata": {},
   "outputs": [],
   "source": [
    "# get the geography for each origin-destination\n",
    "zones = Zones ( zones = 'gau', version=2)\n",
    "zones = zones.get_zone_geodataframe()\n",
    "zones = zones[['id','geometry']]\n",
    "zones.to_crs('4326', inplace=True)\n",
    "\n",
    "wd = wd.set_index('id_origin').join(zones.set_index('id'))\n",
    "wd.rename(columns={'geometry':'geometry_origin'}, inplace=True)\n",
    "wd.reset_index(inplace=True)\n",
    "wd = wd.set_index('id_destination').join(zones.set_index('id'))\n",
    "wd.rename(columns={'geometry':'geometry_destination'}, inplace=True)\n",
    "wd.reset_index(inplace=True)\n",
    "\n",
    "we = we.set_index('id_origin').join(zones.set_index('id'))\n",
    "we.rename(columns={'geometry':'geometry_origin'}, inplace=True)\n",
    "we.reset_index(inplace=True)\n",
    "we = we.set_index('id_destination').join(zones.set_index('id'))\n",
    "we.rename(columns={'geometry':'geometry_destination'}, inplace=True)\n",
    "we.reset_index(inplace=True)\n",
    "\n",
    "\n",
    "# Select other main cities as destinations just to make the plot more interpretable\n",
    "wd = wd[wd['id_destination'].str.contains('GAU')]\n",
    "we = we[we['id_destination'].str.contains('GAU')]\n",
    "\n",
    "# we exlcude canary islands from the plot just for visualization purposes\n",
    "canary_gaus = ['GAU Gran Canaria Sur','GAU Melilla','GAU Santa Cruz de Tenerife - La Laguna', 'GAU Tenerife Sur', 'GAU Valle de la Orotava', 'GAU Las Palmas de Gran Canaria', 'GAU Arrecife']"
   ]
  },
  {
   "cell_type": "code",
   "execution_count": null,
   "id": "1c5d6e6d",
   "metadata": {},
   "outputs": [],
   "source": [
    "wd = wd[~wd['id_destination'].isin(canary_gaus)]\n",
    "we = we[~we['id_destination'].isin(canary_gaus)]\n",
    "\n",
    "# we drop outliers just for visualization purposes based on the weekdays so to have the same scale on the plots \n",
    "wd = wd[wd['n_trips']<wd['n_trips'].describe()['75%']]\n",
    "we = we[we['n_trips']<wd['n_trips'].describe()['75%']]"
   ]
  },
  {
   "cell_type": "code",
   "execution_count": null,
   "id": "253dc98c",
   "metadata": {},
   "outputs": [],
   "source": [
    "# Get centroids\n",
    "wd = wd.set_geometry('geometry_origin')\n",
    "wd['centroid_origin'] = wd['geometry_origin'].centroid\n",
    "wd = wd.set_geometry('geometry_destination')\n",
    "wd['centroid_destination'] = wd['geometry_destination'].centroid\n",
    "\n",
    "# Create lines for each flow\n",
    "wd['line'] = wd.apply(lambda row: LineString([row['centroid_origin'], row['centroid_destination']]), axis=1)\n",
    "\n",
    "# Normalize\n",
    "vmin, vmax = wd['n_trips'].min(), wd['n_trips'].max()\n",
    "norm = mcolors.Normalize(vmin=vmin, vmax=vmax)\n",
    "cmap = plt.get_cmap('YlOrRd')\n",
    "\n",
    "def trips_to_color(val):\n",
    "    rgba = cmap(norm(val))\n",
    "    return mcolors.to_hex(rgba)\n",
    "\n",
    "wd['color'] = wd['n_trips'].apply(trips_to_color)\n",
    "\n",
    "# Center in Madrid\n",
    "madrid_coords = [40.4168, -3.7038]\n",
    "m = folium.Map(location=madrid_coords, zoom_start=7, tiles=\"CartoDB positron\")\n",
    "\n",
    "folium.GeoJson(\n",
    "    zones,\n",
    "    style_function=lambda x: {'color': 'black', 'weight': 1, 'fillOpacity': 0}\n",
    ").add_to(m)\n",
    "\n",
    "# Plot flows as polylines\n",
    "for _, row in wd.iterrows():\n",
    "    folium.PolyLine(\n",
    "        locations=[ [row['centroid_origin'].y, row['centroid_origin'].x],\n",
    "                    [row['centroid_destination'].y, row['centroid_destination'].x] ],\n",
    "        color=row['color'],\n",
    "        weight=2 + 5*(row['n_trips']/wd['n_trips'].max()),  # Thicker for more trips\n",
    "        opacity=1\n",
    "    ).add_to(m)\n",
    "\n",
    "# Plot centroids as circles\n",
    "for point in wd['centroid_origin'].tolist() + wd['centroid_destination'].tolist():\n",
    "    folium.CircleMarker(\n",
    "        location=[point.y, point.x],\n",
    "        radius=4,\n",
    "        color='orange',\n",
    "        fill=True,\n",
    "        fill_opacity=0.8,\n",
    "        weight=1\n",
    "    ).add_to(m)\n",
    "\n",
    "# Save to HTML\n",
    "m.save(\"network_wd.html\")\n",
    "\n",
    "\n",
    "# use selenium to take a screenshot of the html page\n",
    "options = Options()\n",
    "options.add_argument(\"--headless\")\n",
    "options.add_argument(\"--window-size=1350,1350\") \n",
    "\n",
    "driver = webdriver.Chrome(options=options)\n",
    "\n",
    "driver.get('file://' + os.path.abspath(f'network_wd.html'))\n",
    "time.sleep(2)\n",
    "\n",
    "driver.save_screenshot(f'network_wd.png')\n",
    "driver.quit()"
   ]
  }
 ],
 "metadata": {
  "kernelspec": {
   "display_name": "Python 3 (ipykernel)",
   "language": "python",
   "name": "python3"
  },
  "language_info": {
   "codemirror_mode": {
    "name": "ipython",
    "version": 3
   },
   "file_extension": ".py",
   "mimetype": "text/x-python",
   "name": "python",
   "nbconvert_exporter": "python",
   "pygments_lexer": "ipython3",
   "version": "3.11.4"
  }
 },
 "nbformat": 4,
 "nbformat_minor": 5
}
