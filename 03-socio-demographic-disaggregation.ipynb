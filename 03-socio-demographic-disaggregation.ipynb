{
 "cells": [
  {
   "cell_type": "code",
   "execution_count": 1,
   "id": "6897d494",
   "metadata": {},
   "outputs": [
    {
     "name": "stderr",
     "output_type": "stream",
     "text": [
      "/Users/mluca/anaconda3/lib/python3.11/site-packages/pandas/core/arrays/masked.py:60: UserWarning: Pandas requires version '1.3.6' or newer of 'bottleneck' (version '1.3.5' currently installed).\n",
      "  from pandas.core import (\n"
     ]
    }
   ],
   "source": [
    "from pyspainmobility import Mobility, Zones\n",
    "import pandas as pd \n",
    "import seaborn as sns\n",
    "import matplotlib.pyplot as plt"
   ]
  },
  {
   "cell_type": "code",
   "execution_count": null,
   "id": "0de82aaf",
   "metadata": {},
   "outputs": [],
   "source": [
    "# getting 1 week of mobility data. In this case, we download the data from March 10 to March 16 \n",
    "mobility_data = Mobility(version=2, zones='lua', start_date='2024-10-14', end_date='2024-10-20', social_agg=True)\n",
    "# and we extract the OD matrices \n",
    "mobility_data.get_od_data()"
   ]
  },
  {
   "cell_type": "code",
   "execution_count": null,
   "id": "103f651b",
   "metadata": {},
   "outputs": [],
   "source": [
    "df = pd.read_parquet('Viajes_GAU_2024-10-14_2024-10-20_v2.parquet')\n",
    "df = df[(df['destino'].str.contains('GAU Barcelona'))|(df['origen'].str.contains('GAU Barcelona'))]"
   ]
  },
  {
   "cell_type": "code",
   "execution_count": null,
   "id": "08fd4183",
   "metadata": {},
   "outputs": [],
   "source": [
    "# Prepare and clean data\n",
    "df_age_period = df[['age', 'date', 'n_trips']].dropna()\n",
    "df_age_period['date'] = df_age_period['date'].astype(int)\n",
    "\n",
    "# Filter only valid age groups\n",
    "valid_ages = ['0-25', '25-45', '45-65', '65-100']\n",
    "df_age_period = df_age_period[df_age_period['age'].isin(valid_ages)]\n",
    "\n",
    "# Aggregate data\n",
    "grouped = df_age_period.groupby(['date', 'age'])['n_trips'].sum().reset_index()\n",
    "\n",
    "# Set Seaborn style\n",
    "sns.set(style=\"whitegrid\")\n",
    "\n",
    "# Custom color palette\n",
    "custom_colors = [\"#FFA500\", \"#FF8C00\", \"#FF3344\", \"#FF66CC\"]\n",
    "palette = dict(zip(valid_ages, custom_colors))\n",
    "\n",
    "# Plot\n",
    "plt.figure(figsize=(12, 6))\n",
    "ax = sns.lineplot(data=grouped, x='date', y='n_trips', hue='age', palette=palette)\n",
    "\n",
    "# Remove top and right borders\n",
    "ax.spines['top'].set_visible(False)\n",
    "ax.spines['right'].set_visible(False)\n",
    "\n",
    "# Emphasize bottom and left borders\n",
    "ax.spines['bottom'].set_linewidth(1.5)\n",
    "ax.spines['left'].set_linewidth(1.5)\n",
    "ax.spines['bottom'].set_color('black')\n",
    "ax.spines['left'].set_color('black')\n",
    "\n",
    "# Labels and layout\n",
    "plt.title(\"Hourly Trip Volume by Age Group\", fontsize=18)\n",
    "plt.xlabel(\"Hour of Day\")\n",
    "plt.ylabel(\"Number of Trips\")\n",
    "plt.legend(title=\"Age Group\")\n",
    "plt.tight_layout()\n",
    "plt.show()\n"
   ]
  }
 ],
 "metadata": {
  "kernelspec": {
   "display_name": "Python 3 (ipykernel)",
   "language": "python",
   "name": "python3"
  },
  "language_info": {
   "codemirror_mode": {
    "name": "ipython",
    "version": 3
   },
   "file_extension": ".py",
   "mimetype": "text/x-python",
   "name": "python",
   "nbconvert_exporter": "python",
   "pygments_lexer": "ipython3",
   "version": "3.11.4"
  }
 },
 "nbformat": 4,
 "nbformat_minor": 5
}
